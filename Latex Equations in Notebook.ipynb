{
 "cells": [
  {
   "cell_type": "markdown",
   "metadata": {},
   "source": [
    "# Goal\n",
    "The goal of this notebook is to sort out some documentation issues with embedding $\\LaTeX$ equations and specifically those than reference variables in Python code."
   ]
  },
  {
   "cell_type": "markdown",
   "metadata": {},
   "source": [
    "# Embedded $\\LaTeX$ Equations In Markdown Boxes\n",
    "Note, first of all, note that we *do not need to load anything* to get basic $\\LaTeX$ equations in the Markdown boxes. We just use the follow form: \n",
    "```\n",
    "$[LaTeX Code Goes Here]$\n",
    "```\n",
    "\n",
    "Below are some examples that are useful. Not in particular the mixing of regular text and equation text.\n",
    "\n",
    "$PDF_{Laplace}=\\frac{1}{2b}e^{\\frac{-\\left|x-\\mu\\right|}{b}}$\n",
    "\n",
    "$\\mu=$ Location\n",
    "\n",
    "$b=$ Scale $=\\frac{Sensitivity}{\\varepsilon}$\n",
    "\n",
    "Typically in DP usage we set the location, $\\mu$, to 0. This leaves us with:\n",
    "\n",
    "$PDF_{Laplace}=\\frac{1}{2b}e^{\\frac{-\\left|x\\right|}{b}}$\n",
    "\n",
    "The \"problem\" is that we cannot reference anything from the code blocks."
   ]
  },
  {
   "cell_type": "markdown",
   "metadata": {},
   "source": [
    "# Display Equations from Code Blocks\n",
    "The next step is to try to output equations from our code blocks.\n",
    "But first, we'll need to load some packages."
   ]
  },
  {
   "cell_type": "code",
   "execution_count": 4,
   "metadata": {
    "collapsed": true
   },
   "outputs": [],
   "source": [
    "# Load the libraries we need.\n",
    "from IPython.display import HTML, Math, Latex, Markdown, display"
   ]
  },
  {
   "cell_type": "markdown",
   "metadata": {},
   "source": [
    "## Displaying Static Equations\n",
    "First we'll look at what we can do within the Python block to display static equations.\n",
    "### With \"display\" and \"Math\""
   ]
  },
  {
   "cell_type": "code",
   "execution_count": 68,
   "metadata": {},
   "outputs": [
    {
     "data": {
      "text/latex": [
       "$$PDF_{Laplace}=\\frac{1}{2b}e^{\\frac{-\\left|x-\\mu\\right|}{b}}$$"
      ],
      "text/plain": [
       "<IPython.core.display.Math object>"
      ]
     },
     "metadata": {},
     "output_type": "display_data"
    },
    {
     "data": {
      "text/latex": [
       "$$\\mu_{\\Omega}=0$$"
      ],
      "text/plain": [
       "<IPython.core.display.Math object>"
      ]
     },
     "metadata": {},
     "output_type": "display_data"
    },
    {
     "data": {
      "text/latex": [
       "$$\\mu_{}$$"
      ],
      "text/plain": [
       "<IPython.core.display.Math object>"
      ]
     },
     "metadata": {},
     "output_type": "display_data"
    }
   ],
   "source": [
    "display(Math(r'PDF_{Laplace}=\\frac{1}{2b}e^{\\frac{-\\left|x-\\mu\\right|}{b}}'))\n",
    "\n",
    "display(Math(r'\\mu_{\\Omega}=0'))\n",
    "\n",
    "display(Math(r'\\mu_{{}}'.format(1)))"
   ]
  },
  {
   "cell_type": "markdown",
   "metadata": {},
   "source": [
    "### With \"display\" and \"Markdown\"\n",
    "The following is a sequence that shows how you must start \"escaping\" variables and $\\LaTeX$ expressions using extra curly brackets when you substitute them. Basically it seems that to get a variable to evaluate you need to wrap the variable name in curly brackets:\n",
    "```\n",
    "{x}\n",
    "```\n",
    "Also, if there is more than one character inside a $\\LaTeX$ functional curly bracket, then it must be wrapped in extra curly brackets:\n",
    "```\n",
    "A_{1}\n",
    "``` \n",
    "is OK\n",
    "```\n",
    "A_{{10}}\n",
    "``` \n",
    "extra curly bracket is required."
   ]
  },
  {
   "cell_type": "code",
   "execution_count": 65,
   "metadata": {
    "scrolled": true
   },
   "outputs": [
    {
     "data": {
      "text/markdown": [
       "\n",
       "$\\mu_0=0$\n",
       "\n"
      ],
      "text/plain": [
       "<IPython.core.display.Markdown object>"
      ]
     },
     "metadata": {},
     "output_type": "display_data"
    },
    {
     "data": {
      "text/markdown": [
       "\n",
       "$\\mu_1=1$\n"
      ],
      "text/plain": [
       "<IPython.core.display.Markdown object>"
      ]
     },
     "metadata": {},
     "output_type": "display_data"
    },
    {
     "data": {
      "text/markdown": [
       "\n",
       "$\\mu_2=2$\n"
      ],
      "text/plain": [
       "<IPython.core.display.Markdown object>"
      ]
     },
     "metadata": {},
     "output_type": "display_data"
    },
    {
     "data": {
      "text/markdown": [
       "\n",
       "$\\mu_i=i$\n"
      ],
      "text/plain": [
       "<IPython.core.display.Markdown object>"
      ]
     },
     "metadata": {},
     "output_type": "display_data"
    },
    {
     "data": {
      "text/markdown": [
       "\n",
       "$\\mu_j=i$\n"
      ],
      "text/plain": [
       "<IPython.core.display.Markdown object>"
      ]
     },
     "metadata": {},
     "output_type": "display_data"
    },
    {
     "data": {
      "text/markdown": [
       "\n",
       "$PDF_{Laplace}=\\frac1{2b}e^{\\frac{-\\left|x-\\mu\\right|}{b}}$\n"
      ],
      "text/plain": [
       "<IPython.core.display.Markdown object>"
      ]
     },
     "metadata": {},
     "output_type": "display_data"
    },
    {
     "data": {
      "text/markdown": [
       "\n",
       "$PDF_{Laplace}=\\frac1{2b}e^{\\frac{-\\left|x-4.0\\right|}{b}}$\n"
      ],
      "text/plain": [
       "<IPython.core.display.Markdown object>"
      ]
     },
     "metadata": {},
     "output_type": "display_data"
    }
   ],
   "source": [
    "\n",
    "\n",
    "\n",
    "\n",
    "display(Markdown(\n",
    "    rf\"\"\"\n",
    "$\\mu_{0}=0$\n",
    "\n",
    "\"\"\"))\n",
    "\n",
    "\n",
    "display(Markdown(\n",
    "    rf\"\"\"\n",
    "$\\mu_1=1$\n",
    "\"\"\"))\n",
    "\n",
    "mu=2\n",
    "display(Markdown(\n",
    "    rf\"\"\"\n",
    "$\\mu_{mu}={mu}$\n",
    "\"\"\"))\n",
    "\n",
    "mu='i'\n",
    "display(Markdown(\n",
    "    rf\"\"\"\n",
    "$\\mu_{mu}={mu}$\n",
    "\"\"\"))\n",
    "\n",
    "mu='i'\n",
    "display(Markdown(\n",
    "    rf\"\"\"\n",
    "$\\mu_{'j'}={mu}$\n",
    "\"\"\"))\n",
    "\n",
    "display(Markdown(\n",
    "    rf\"\"\"\n",
    "$PDF_{{Laplace}}=\\frac{1}{{2b}}e^{{\\frac{{-\\left|x-\\mu\\right|}}{{b}}}}$\n",
    "\"\"\"))\n",
    "\n",
    "mu=4.\n",
    "display(Markdown(\n",
    "    rf\"\"\"\n",
    "$PDF_{{Laplace}}=\\frac{1}{{2b}}e^{{\\frac{{-\\left|x-{mu}\\right|}}{{b}}}}$\n",
    "\"\"\"))\n",
    "#display(Markdown(\n",
    "#    rf\"\"\"\n",
    "#$PDF_{\"Laplace\"}=\\frac{'1'}{'2b'}e^{\\frac{-\\left|'x'-\\mu\\right|}{'b'}}$\n",
    "#\"\"\"))\n"
   ]
  }
 ],
 "metadata": {
  "kernelspec": {
   "display_name": "Python 3",
   "language": "python",
   "name": "python3"
  },
  "language_info": {
   "codemirror_mode": {
    "name": "ipython",
    "version": 3
   },
   "file_extension": ".py",
   "mimetype": "text/x-python",
   "name": "python",
   "nbconvert_exporter": "python",
   "pygments_lexer": "ipython3",
   "version": "3.6.3"
  }
 },
 "nbformat": 4,
 "nbformat_minor": 2
}
