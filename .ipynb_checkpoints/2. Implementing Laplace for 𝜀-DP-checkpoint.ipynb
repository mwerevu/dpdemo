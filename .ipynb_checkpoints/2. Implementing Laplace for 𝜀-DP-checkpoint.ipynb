{
 "cells": [
  {
   "cell_type": "markdown",
   "metadata": {},
   "source": [
    "# Implementing Laplace for $\\epsilon$-DP"
   ]
  },
  {
   "cell_type": "markdown",
   "metadata": {},
   "source": [
    "## Generate Data\n",
    "\n",
    "We'll create a dummy dataset with some records of fake people who we can then summarize in a some tables.\n",
    "\n",
    "The characteristics we'll use will be:\n",
    "* Sex\n",
    "* Age\n",
    "* Marital Status\n",
    "* Earnings\n",
    "* Occupation"
   ]
  },
  {
   "cell_type": "code",
   "execution_count": null,
   "metadata": {
    "collapsed": true
   },
   "outputs": [],
   "source": [
    "# Some initial Python setup requirements for later code.\n",
    "\n",
    "# Required to get the plots inline for Census implementation.\n",
    "%matplotlib inline\n",
    "\n",
    "# Load the libraries we need.\n",
    "import matplotlib.pyplot as plt\n",
    "import numpy as np\n",
    "import pandas as pd\n",
    "from scipy.stats import truncnorm\n",
    "\n",
    "# Set the threshold for numpy output values that get printed to the screen.\n",
    "np.set_printoptions(threshold=10)\n",
    "pd.options.display.max_rows = 10"
   ]
  },
  {
   "cell_type": "code",
   "execution_count": null,
   "metadata": {},
   "outputs": [],
   "source": [
    "# Specify how many dummy records we want.\n",
    "numrecs=100\n",
    "\n",
    "# Valid Values\n",
    "sexvalid=[\"M\", \"F\"]\n",
    "marrvalid=[\"M\", \"W\", \"S\", \"D\", \"N\"]\n",
    "occvalid=[\"Statistician\", \"Economist\", \"Geographer\", \"IT Specialist\", \"Unicorn Wrangler\"]\n",
    "\n",
    "# Generate arrays of random values.\n",
    "sexarray = np.random.choice(a=sexvalid,size=numrecs,p=[0.50, 0.50])\n",
    "agearray = np.random.normal(loc=45, scale=10, size=numrecs).round().astype(np.int)\n",
    "marrarray = np.random.choice(a=marrvalid,size=numrecs,p=[0.478, 0.057,0.109,0.019,0.337])\n",
    "earnarray=np.power(10,truncnorm.rvs(-3, 4, loc=5, scale=0.5, size=numrecs)).round().astype(np.int)\n",
    "occarray=np.random.choice(a=occvalid,size=numrecs,p=[0.3,0.3,0.2,0.19,0.01])\n",
    "\n",
    "\n",
    "#myrecs=pd.DataFrame(np.array([sexarray,agearray]))\n",
    "myrecs = pd.DataFrame({'Sex': sexarray, \n",
    "                       'Age': agearray,\n",
    "                       'Married': marrarray,\n",
    "                       'Earnings': earnarray,\n",
    "                       'Occupation': occarray\n",
    "                    }, columns=['Sex', 'Age', 'Married', 'Earnings', 'Occupation'])\n",
    "print(myrecs)\n"
   ]
  },
  {
   "cell_type": "markdown",
   "metadata": {},
   "source": [
    "## Summarize Data\n",
    "For this example, we want to publish a count of Occupation by Sex. For reference, we'll start by looking at the true version of the table."
   ]
  },
  {
   "cell_type": "code",
   "execution_count": null,
   "metadata": {},
   "outputs": [],
   "source": [
    "# Note that we reindex using the full set of valid values. Unless we have structural zeros, we must also protect the real zeros.\n",
    "truetab=pd.crosstab(index=myrecs['Occupation'], columns=myrecs['Sex'])\n",
    "truetab=truetab.reindex(index=occvalid, columns=sexvalid, fill_value=0)\n",
    "print(truetab)\n"
   ]
  },
  {
   "cell_type": "markdown",
   "metadata": {},
   "source": [
    "# Generate Laplace Noise\n",
    "Now we will generate a noise value for each cell in the table too be published."
   ]
  },
  {
   "cell_type": "code",
   "execution_count": null,
   "metadata": {},
   "outputs": [],
   "source": [
    "# First let's define the scale of the Laplace distribution in terms of sensitivity and epsilon.\n",
    "sensitivity=1.\n",
    "epsilon=4.\n",
    "scale=sensitivity/epsilon\n",
    "\n",
    "print(\"Epsilon = {:4.2f}\".format(epsilon))\n",
    "print(\"Sensitivity = {:4.2f}\".format(sensitivity) )\n",
    "print(\"Scale = {:4.2f}\".format(scale))\n",
    "print()\n",
    "\n",
    "\n",
    "noise = np.random.laplace(0,scale,truetab.shape)\n",
    "print(noise)\n"
   ]
  },
  {
   "cell_type": "markdown",
   "metadata": {},
   "source": [
    "# Create Noisy Table\n",
    "Now we add true data and the noise to get a noise table. Depending upon our publication strategy we may want to post-process the table (e.g. rounding, excluding negative values)."
   ]
  },
  {
   "cell_type": "code",
   "execution_count": null,
   "metadata": {},
   "outputs": [],
   "source": [
    "# Print the noisy table.\n",
    "noisytab=truetab+noise\n",
    "print(noisytab)\n",
    "print()\n",
    "\n",
    "# Post-process the noisy table to round and set negative values to zero.\n",
    "noisytabpost=noisytab.round().astype(np.int)\n",
    "noisytabpost[noisytabpost < 0]=0\n",
    "print(\"Noisy table to be published:\")\n",
    "print(noisytabpost)\n",
    "print()\n",
    "\n",
    "print(\"True table for comparison:\")\n",
    "print(truetab)"
   ]
  },
  {
   "cell_type": "markdown",
   "metadata": {},
   "source": [
    "# Measure the Error\n",
    "Now we will calculate the $L_{1}$ error between the true table and the noisy table. First cell by cell and then in total."
   ]
  },
  {
   "cell_type": "code",
   "execution_count": null,
   "metadata": {},
   "outputs": [],
   "source": [
    "# First cell-by-cell errors.\n",
    "errortab=np.abs(noisytabpost-truetab)\n",
    "print(\"Cell-by-cell absolute error:\")\n",
    "print(errortab)\n",
    "print()\n",
    "\n",
    "# Then percentage errors.\n",
    "pcterrortab=errortab/truetab\n",
    "print(\"Cell-by-cell relative error:\")\n",
    "print(pcterrortab)\n",
    "print()\n",
    "\n",
    "# Now the total error and the relative error.\n",
    "errorsum=errortab.sum().sum()\n",
    "print(\"Total L1 Error: {0:1d}\".format(errorsum))\n",
    "truesum=truetab.sum().sum()\n",
    "errorrel=100*errorsum/truesum\n",
    "print(\"Relative L1 Error: {:4.2f}%\".format(errorrel))"
   ]
  }
 ],
 "metadata": {
  "kernelspec": {
   "display_name": "Python 3",
   "language": "python",
   "name": "python3"
  },
  "language_info": {
   "codemirror_mode": {
    "name": "ipython",
    "version": 3
   },
   "file_extension": ".py",
   "mimetype": "text/x-python",
   "name": "python",
   "nbconvert_exporter": "python",
   "pygments_lexer": "ipython3",
   "version": "3.6.3"
  }
 },
 "nbformat": 4,
 "nbformat_minor": 2
}
