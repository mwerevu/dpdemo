{
 "cells": [
  {
   "cell_type": "markdown",
   "metadata": {},
   "source": [
    "# Implementing Laplace for $\\epsilon$-DP"
   ]
  },
  {
   "cell_type": "markdown",
   "metadata": {},
   "source": [
    "## Generating a Dummy Population\n",
    "\n",
    "We'll create a dummy dataset with some records of fake people who we can then summarize in a some tables.\n",
    "\n",
    "The characteristics we'll use will be: Sex, Age, Marital Status, Earnings, Occupation"
   ]
  },
  {
   "cell_type": "code",
   "execution_count": 2,
   "metadata": {
    "collapsed": true
   },
   "outputs": [],
   "source": [
    "# Some initial Python setup requirements for later code.\n",
    "\n",
    "# Required to get the plots inline for Census implementation.\n",
    "%matplotlib inline\n",
    "\n",
    "# Load the libraries we need.\n",
    "import matplotlib.pyplot as plt\n",
    "import numpy as np\n",
    "import pandas as pd\n",
    "from scipy.stats import truncnorm\n",
    "\n",
    "# Set the threshold for numpy output values that get printed to the screen.\n",
    "np.set_printoptions(threshold=10)\n",
    "pd.options.display.max_rows = 10"
   ]
  },
  {
   "cell_type": "markdown",
   "metadata": {},
   "source": [
    "## Population Distributions\n",
    "\n",
    "The options we will allow for each of those categories are:\n",
    "* Sex: {Male, Female}, evenly distributed.\n",
    "* Age: A normal distribution of integers centered around 45 and with a StDev of 10.\n",
    "* Marital Status: {Married, Widowed, Separated, Divorced, Never Marries}, based on the [ACS 1-year estimates for 2018](https://data.census.gov/cedsci/table?q=Marital%20Status%20and%20Marital%20History&hidePreview=false&t=Marital%20Status%20and%20Marital%20History&tid=ACSST1Y2018.S1201&vintage=2018)\n",
    "* Earnings: A truncated log-normal distribution of integers.\n",
    "* Occupation: {Statistician, Economist, Geographer, IT Specialist, Unicorn Wrangler}, with an arbitrary distribution."
   ]
  },
  {
   "cell_type": "code",
   "execution_count": 8,
   "metadata": {},
   "outputs": [
    {
     "name": "stdout",
     "output_type": "stream",
     "text": [
      "    Sex  Age Married  Earnings     Occupation\n",
      "0     M   49       N     24038  IT Specialist\n",
      "1     M   42       S    169977     Geographer\n",
      "2     F   48       M     43647      Economist\n",
      "3     F   56       N    379372   Statistician\n",
      "4     F   67       M    642698   Statistician\n",
      "..   ..  ...     ...       ...            ...\n",
      "995   M   48       S     42793     Geographer\n",
      "996   M   36       M     12316      Economist\n",
      "997   M   39       M      8489     Geographer\n",
      "998   M   39       M     52186      Economist\n",
      "999   F   42       M    243496  IT Specialist\n",
      "\n",
      "[1000 rows x 5 columns]\n"
     ]
    }
   ],
   "source": [
    "# Specify how many dummy records we want.\n",
    "numrecs=1000\n",
    "\n",
    "# Valid Values\n",
    "sexvalid=[\"M\", \"F\"]\n",
    "marrvalid=[\"M\", \"W\", \"S\", \"D\", \"N\"]\n",
    "occvalid=[\"Statistician\", \"Economist\", \"Geographer\", \"IT Specialist\", \"Unicorn Wrangler\"]\n",
    "\n",
    "# Generate arrays of random values.\n",
    "sexarray = np.random.choice(a=sexvalid,size=numrecs,p=[0.50, 0.50])\n",
    "agearray = np.random.normal(loc=45, scale=10, size=numrecs).round().astype(np.int)\n",
    "marrarray = np.random.choice(a=marrvalid,size=numrecs,p=[0.478, 0.057,0.109,0.019,0.337])\n",
    "earnarray=np.power(10,truncnorm.rvs(-3, 4, loc=5, scale=0.5, size=numrecs)).round().astype(np.int)\n",
    "occarray=np.random.choice(a=occvalid,size=numrecs,p=[0.3,0.3,0.2,0.19,0.01])\n",
    "\n",
    "\n",
    "# Construct the full data structure and print some records.\n",
    "myrecs = pd.DataFrame({'Sex': sexarray, \n",
    "                       'Age': agearray,\n",
    "                       'Married': marrarray,\n",
    "                       'Earnings': earnarray,\n",
    "                       'Occupation': occarray\n",
    "                    }, columns=['Sex', 'Age', 'Married', 'Earnings', 'Occupation'])\n",
    "print(myrecs)\n"
   ]
  },
  {
   "cell_type": "markdown",
   "metadata": {},
   "source": [
    "## Summarize Data\n",
    "For this example, we want to publish a count of Occupation by Sex. For reference, we'll start by looking at the true version of the table."
   ]
  },
  {
   "cell_type": "code",
   "execution_count": 9,
   "metadata": {},
   "outputs": [
    {
     "name": "stdout",
     "output_type": "stream",
     "text": [
      "Sex                 M    F\n",
      "Occupation                \n",
      "Statistician      144  150\n",
      "Economist         143  143\n",
      "Geographer        105  106\n",
      "IT Specialist      97   99\n",
      "Unicorn Wrangler    6    7\n"
     ]
    }
   ],
   "source": [
    "# Note that we reindex using the full set of valid values. Unless we have structural zeros, we must also protect the real zeros.\n",
    "truetab=pd.crosstab(index=myrecs['Occupation'], columns=myrecs['Sex'])\n",
    "truetab=truetab.reindex(index=occvalid, columns=sexvalid, fill_value=0)\n",
    "print(truetab)\n"
   ]
  },
  {
   "cell_type": "markdown",
   "metadata": {},
   "source": [
    "# Generate Laplace Noise\n",
    "Now we will generate a noise value for each cell in the table too be published."
   ]
  },
  {
   "cell_type": "code",
   "execution_count": 10,
   "metadata": {},
   "outputs": [
    {
     "name": "stdout",
     "output_type": "stream",
     "text": [
      "Epsilon = 1.00\n",
      "Sensitivity = 1.00\n",
      "Scale = 1.00\n",
      "\n",
      "[[-0.58286841 -0.32894437]\n",
      " [-1.56780072  1.07916289]\n",
      " [ 1.45645638  2.17068026]\n",
      " [ 2.71139609 -1.02783281]\n",
      " [ 0.30909519  1.73692829]]\n"
     ]
    }
   ],
   "source": [
    "# First let's define the scale of the Laplace distribution in terms of sensitivity and epsilon.\n",
    "sensitivity=1.\n",
    "epsilon=1.\n",
    "scale=sensitivity/epsilon\n",
    "\n",
    "print(\"Epsilon = {:4.2f}\".format(epsilon))\n",
    "print(\"Sensitivity = {:4.2f}\".format(sensitivity) )\n",
    "print(\"Scale = {:4.2f}\".format(scale))\n",
    "print()\n",
    "\n",
    "\n",
    "noise = np.random.laplace(0,scale,truetab.shape)\n",
    "print(noise)\n"
   ]
  },
  {
   "cell_type": "markdown",
   "metadata": {},
   "source": [
    "# Create Noisy Table\n",
    "Now we add true data and the noise to get a noisy table. Depending upon our publication strategy we may want to post-process the table (e.g. rounding, excluding negative values)."
   ]
  },
  {
   "cell_type": "code",
   "execution_count": 11,
   "metadata": {},
   "outputs": [
    {
     "name": "stdout",
     "output_type": "stream",
     "text": [
      "Sex                        M           F\n",
      "Occupation                              \n",
      "Statistician      143.417132  149.671056\n",
      "Economist         141.432199  144.079163\n",
      "Geographer        106.456456  108.170680\n",
      "IT Specialist      99.711396   97.972167\n",
      "Unicorn Wrangler    6.309095    8.736928\n",
      "\n",
      "Noisy table to be published:\n",
      "Sex                 M    F\n",
      "Occupation                \n",
      "Statistician      143  150\n",
      "Economist         141  144\n",
      "Geographer        106  108\n",
      "IT Specialist     100   98\n",
      "Unicorn Wrangler    6    9\n",
      "\n",
      "True table for comparison:\n",
      "Sex                 M    F\n",
      "Occupation                \n",
      "Statistician      144  150\n",
      "Economist         143  143\n",
      "Geographer        105  106\n",
      "IT Specialist      97   99\n",
      "Unicorn Wrangler    6    7\n"
     ]
    }
   ],
   "source": [
    "# Print the noisy table.\n",
    "noisytab=truetab+noise\n",
    "print(noisytab)\n",
    "print()\n",
    "\n",
    "# Post-process the noisy table to round and set negative values to zero.\n",
    "noisytabpost=noisytab.round().astype(np.int)\n",
    "noisytabpost[noisytabpost < 0]=0\n",
    "print(\"Noisy table to be published:\")\n",
    "print(noisytabpost)\n",
    "print()\n",
    "\n",
    "print(\"True table for comparison:\")\n",
    "print(truetab)"
   ]
  },
  {
   "cell_type": "markdown",
   "metadata": {},
   "source": [
    "# Measure the Error\n",
    "Now we will calculate the $L_{1}$ error between the true table and the noisy table. First cell by cell and then in total."
   ]
  },
  {
   "cell_type": "code",
   "execution_count": 12,
   "metadata": {},
   "outputs": [
    {
     "name": "stdout",
     "output_type": "stream",
     "text": [
      "Cell-by-cell absolute error:\n",
      "Sex               M  F\n",
      "Occupation            \n",
      "Statistician      1  0\n",
      "Economist         2  1\n",
      "Geographer        1  2\n",
      "IT Specialist     3  1\n",
      "Unicorn Wrangler  0  2\n",
      "\n",
      "Cell-by-cell relative error:\n",
      "Sex                      M         F\n",
      "Occupation                          \n",
      "Statistician      0.006944  0.000000\n",
      "Economist         0.013986  0.006993\n",
      "Geographer        0.009524  0.018868\n",
      "IT Specialist     0.030928  0.010101\n",
      "Unicorn Wrangler  0.000000  0.285714\n",
      "\n",
      "Total L1 Error: 13\n",
      "Relative L1 Error: 1.30%\n"
     ]
    }
   ],
   "source": [
    "# First cell-by-cell errors.\n",
    "errortab=np.abs(noisytabpost-truetab)\n",
    "print(\"Cell-by-cell absolute error:\")\n",
    "print(errortab)\n",
    "print()\n",
    "\n",
    "# Then percentage errors.\n",
    "pcterrortab=errortab/truetab\n",
    "print(\"Cell-by-cell relative error:\")\n",
    "print(pcterrortab)\n",
    "print()\n",
    "\n",
    "# Now the total error and the relative error.\n",
    "errorsum=errortab.sum().sum()\n",
    "print(\"Total L1 Error: {0:1d}\".format(errorsum))\n",
    "truesum=truetab.sum().sum()\n",
    "errorrel=100*errorsum/truesum\n",
    "print(\"Relative L1 Error: {:4.2f}%\".format(errorrel))"
   ]
  }
 ],
 "metadata": {
  "kernelspec": {
   "display_name": "Python 3",
   "language": "python",
   "name": "python3"
  },
  "language_info": {
   "codemirror_mode": {
    "name": "ipython",
    "version": 3
   },
   "file_extension": ".py",
   "mimetype": "text/x-python",
   "name": "python",
   "nbconvert_exporter": "python",
   "pygments_lexer": "ipython3",
   "version": "3.6.3"
  }
 },
 "nbformat": 4,
 "nbformat_minor": 2
}
