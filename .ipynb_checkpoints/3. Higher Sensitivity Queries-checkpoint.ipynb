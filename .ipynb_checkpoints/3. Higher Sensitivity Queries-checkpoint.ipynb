{
 "cells": [
  {
   "cell_type": "markdown",
   "metadata": {},
   "source": [
    "# Cases Where Sensitivity $\\gg$ 1\n",
    "Now consider a situation where the sensitivity is greater or even much greater than 1. An example is the counting of employees at a business.\n",
    "\n",
    "Below we will generate some data and then consider the consequences of dealing with large businesses."
   ]
  },
  {
   "cell_type": "code",
   "execution_count": 1,
   "metadata": {
    "collapsed": true
   },
   "outputs": [],
   "source": [
    "# Some initial Python setup requirements for later code.\n",
    "\n",
    "# Required to get the plots inline for Census implementation.\n",
    "%matplotlib inline\n",
    "\n",
    "# Load the libraries we need.\n",
    "import matplotlib.pyplot as plt\n",
    "import numpy as np\n",
    "import pandas as pd\n",
    "from scipy.stats import truncnorm\n",
    "\n",
    "# Set the threshold for numpy output values that get printed to the screen.\n",
    "np.set_printoptions(threshold=10)\n",
    "pd.options.display.max_rows = 10"
   ]
  },
  {
   "cell_type": "markdown",
   "metadata": {},
   "source": [
    "## Generate the data\n",
    "This time we will generate some business data to consider. The characteristics will be:\n",
    "* Geography\n",
    "* Industry\n",
    "* Size (count of employees)"
   ]
  },
  {
   "cell_type": "code",
   "execution_count": 27,
   "metadata": {},
   "outputs": [
    {
     "name": "stdout",
     "output_type": "stream",
     "text": [
      "   State       Industry  Employment\n",
      "0     VA  Manufacturing           6\n",
      "1     DC      Education          90\n",
      "2     VA    Information          61\n",
      "3     VA  Manufacturing        9467\n",
      "4     MD    Information           3\n",
      "..   ...            ...         ...\n",
      "95    DC        Finance           8\n",
      "96    VA      Education         108\n",
      "97    DC   Construction         224\n",
      "98    MD    Information         968\n",
      "99    VA   Construction           5\n",
      "\n",
      "[100 rows x 3 columns]\n",
      "1\n",
      "9467\n"
     ]
    }
   ],
   "source": [
    "# Specify how many dummy records we want.\n",
    "numrecs=100\n",
    "\n",
    "# Valid Values\n",
    "geovalid=[\"DC\",\"MD\",\"VA\"]\n",
    "indvalid=[\"Construction\",\"Manufacturing\", \"Information\", \"Finance\", \"Education\"]\n",
    "\n",
    "# Generate arrays of random values.\n",
    "geoarray = np.random.choice(a=geovalid,size=numrecs,p=[0.2,0.4,0.4])\n",
    "indarray=np.random.choice(a=indvalid,size=numrecs,p=[0.2,0.2,0.3,0.1,0.2])\n",
    "\n",
    "myclip_a = 0\n",
    "myclip_b = 4\n",
    "my_mean = 0.5\n",
    "my_std = 2\n",
    "a, b = (myclip_a - my_mean) / my_std, (myclip_b - my_mean) / my_std\n",
    "emparray=np.power(10,truncnorm.rvs(a, b, loc=my_mean, scale=my_std, size=numrecs)).round().astype(np.int)\n",
    "\n",
    "\n",
    "\n",
    "\n",
    "\n",
    "#myrecs=pd.DataFrame(np.array([sexarray,agearray]))\n",
    "myrecs = pd.DataFrame({'State': geoarray, \n",
    "                       'Industry': indarray,\n",
    "                       'Employment': emparray\n",
    "                    }, columns=['State', 'Industry', 'Employment'])\n",
    "print(myrecs)\n",
    "print(myrecs[\"Employment\"].min())\n",
    "print(myrecs[\"Employment\"].max())\n"
   ]
  }
 ],
 "metadata": {
  "kernelspec": {
   "display_name": "Python 3",
   "language": "python",
   "name": "python3"
  },
  "language_info": {
   "codemirror_mode": {
    "name": "ipython",
    "version": 3
   },
   "file_extension": ".py",
   "mimetype": "text/x-python",
   "name": "python",
   "nbconvert_exporter": "python",
   "pygments_lexer": "ipython3",
   "version": "3.6.3"
  }
 },
 "nbformat": 4,
 "nbformat_minor": 2
}
