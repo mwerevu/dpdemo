{
 "cells": [
  {
   "cell_type": "markdown",
   "metadata": {},
   "source": [
    "# Goal\n",
    "The goal of this notebook is to sort out some documentation issues with embedding $\\LaTeX$ equations and specifically those than reference variables in Python code."
   ]
  },
  {
   "cell_type": "markdown",
   "metadata": {},
   "source": [
    "# Embedded $\\LaTeX$ Equations In Markdown Boxes\n",
    "Note, first of all, note that we *do not need to load anything* to get basic $\\LaTeX$ equations in the Markdown boxes. We just use the follow form: \n",
    "```\n",
    "$[LaTeX Code Goes Here]$\n",
    "```\n",
    "\n",
    "Below are some examples that are useful. Not in particular the mixing of regular text and equation text.\n",
    "\n",
    "$PDF_{Laplace}=\\frac{1}{2b}e^{\\frac{-\\left|x-\\mu\\right|}{b}}$\n",
    "\n",
    "$\\mu=$ Location\n",
    "\n",
    "$b=$ Scale $=\\frac{Sensitivity}{\\varepsilon}$\n",
    "\n",
    "Typically in DP usage we set the location, $\\mu$, to 0. This leaves us with:\n",
    "\n",
    "$PDF_{Laplace}=\\frac{1}{2b}e^{\\frac{-\\left|x\\right|}{b}}$\n",
    "\n",
    "The \"problem\" is that we cannot reference anything from the code blocks."
   ]
  },
  {
   "cell_type": "markdown",
   "metadata": {},
   "source": [
    "# Display Equations from Code Blocks\n",
    "The next step is to try to output equations from our code blocks.\n",
    "But first, we'll need to load some packages."
   ]
  },
  {
   "cell_type": "code",
   "execution_count": 4,
   "metadata": {
    "collapsed": true
   },
   "outputs": [],
   "source": [
    "# Load the libraries we need.\n",
    "from IPython.display import HTML, Math, Latex, Markdown, display"
   ]
  },
  {
   "cell_type": "markdown",
   "metadata": {},
   "source": [
    "## Displaying Static Equations\n",
    "First we'll look at what we can do within the Python block to display static equations.\n",
    "### With \"display\" and \"Math\""
   ]
  },
  {
   "cell_type": "code",
   "execution_count": 17,
   "metadata": {},
   "outputs": [
    {
     "data": {
      "text/latex": [
       "$$PDF_{Laplace}=\\frac{1}{2b}e^{\\frac{-\\left|x-\\mu\\right|}{b}}$$"
      ],
      "text/plain": [
       "<IPython.core.display.Math object>"
      ]
     },
     "metadata": {},
     "output_type": "display_data"
    },
    {
     "data": {
      "text/latex": [
       "$$\\mu_{\\Omega}=0$$"
      ],
      "text/plain": [
       "<IPython.core.display.Math object>"
      ]
     },
     "metadata": {},
     "output_type": "display_data"
    }
   ],
   "source": [
    "display(Math(r'PDF_{Laplace}=\\frac{1}{2b}e^{\\frac{-\\left|x-\\mu\\right|}{b}}'))\n",
    "display(Math(r'\\mu_{\\Omega}=0'))"
   ]
  },
  {
   "cell_type": "markdown",
   "metadata": {},
   "source": [
    "### With \"display\" and \"Markdown\""
   ]
  },
  {
   "cell_type": "code",
   "execution_count": 33,
   "metadata": {},
   "outputs": [
    {
     "data": {
      "text/markdown": [
       "\n",
       "$\\mu_0=0$\n",
       "\n"
      ],
      "text/plain": [
       "<IPython.core.display.Markdown object>"
      ]
     },
     "metadata": {},
     "output_type": "display_data"
    },
    {
     "data": {
      "text/markdown": [
       "\n",
       "$\\mu_1=0$\n",
       "\n",
       "$\\mu_2=0$\n",
       "\n"
      ],
      "text/plain": [
       "<IPython.core.display.Markdown object>"
      ]
     },
     "metadata": {},
     "output_type": "display_data"
    }
   ],
   "source": [
    "display(Markdown(\n",
    "    rf\"\"\"\n",
    "$\\mu_{0}=0$\n",
    "\n",
    "\"\"\"))\n",
    "\n",
    "\n",
    "display(Markdown(\n",
    "    rf\"\"\"\n",
    "\"\"\"))\n",
    "\n",
    "mu=2\n",
    "display(Markdown(\n",
    "    rf\"\"\"\n",
    "$\\mu_{mu}=0$\n",
    "\"\"\"))"
   ]
  },
  {
   "cell_type": "markdown",
   "metadata": {},
   "source": [
    "$\\mu$ is {{mu}}"
   ]
  },
  {
   "cell_type": "code",
   "execution_count": 3,
   "metadata": {
    "scrolled": true
   },
   "outputs": [
    {
     "name": "stdout",
     "output_type": "stream",
     "text": [
      "Epsilon: 2.000000\n",
      "Sensitivity: 1.000000\n",
      "Scale: 0.500000\n"
     ]
    },
    {
     "data": {
      "text/latex": [
       "$$PDF_{Laplace}=\\frac{1}{2b}e^{\\frac{-\\left|x-\\mu\\right|}{b}}$$"
      ],
      "text/plain": [
       "<IPython.core.display.Math object>"
      ]
     },
     "metadata": {},
     "output_type": "display_data"
    },
    {
     "data": {
      "text/latex": [
       "$$a_{test} + 0.5$$"
      ],
      "text/plain": [
       "<IPython.core.display.Math object>"
      ]
     },
     "metadata": {},
     "output_type": "display_data"
    },
    {
     "data": {
      "text/markdown": [
       "\n",
       "Dims: $PDF$\n"
      ],
      "text/plain": [
       "<IPython.core.display.Markdown object>"
      ]
     },
     "metadata": {},
     "output_type": "display_data"
    }
   ],
   "source": [
    "# Set the parameter for the privacy mechanism.\n",
    "epsilon=2.\n",
    "sensitivity=1.\n",
    "scale=sensitivity/epsilon\n",
    "\n",
    "print(\"Epsilon: %f\" % epsilon)\n",
    "print(\"Sensitivity: %f\" % sensitivity)\n",
    "print(\"Scale: %f\" % scale)\n",
    "\n",
    "# TODO: Try to do a better job of displaying the equation once the parameters have been entered.\n",
    "\n",
    "display(Math(r'PDF_{Laplace}=\\frac{1}{2b}e^{\\frac{-\\left|x-\\mu\\right|}{b}}'))\n",
    "\n",
    "# Examples that may show the way. Core problem is mixing variable insertion and LaTeX layout.\n",
    "display(Math(r'a_{test} +' + ' {}'.format(scale)))\n",
    "a=12.34\n",
    "b=23.45\n",
    "P=100.01\n",
    "V=99.98\n",
    "\n",
    "# Another try:\n",
    "display(Markdown(\n",
    "    rf\"\"\"\n",
    "Dims: $PDF$\n",
    "\"\"\"))\n",
    "#PDF_{Laplace}=\\frac{1}{2b}e^{\\frac{-\\left|x-\\mu\\right|}{b}}\n",
    "# Old Code for reference in using display and Math\n",
    "#display(Math(r'Dims: {}x{}m \\\\ Area: {}m^2 \\\\ Volume: {}m^3'.format(a, round(b,2), P, V)))"
   ]
  },
  {
   "cell_type": "code",
   "execution_count": null,
   "metadata": {
    "collapsed": true
   },
   "outputs": [],
   "source": []
  }
 ],
 "metadata": {
  "kernelspec": {
   "display_name": "Python 3",
   "language": "python",
   "name": "python3"
  },
  "language_info": {
   "codemirror_mode": {
    "name": "ipython",
    "version": 3
   },
   "file_extension": ".py",
   "mimetype": "text/x-python",
   "name": "python",
   "nbconvert_exporter": "python",
   "pygments_lexer": "ipython3",
   "version": "3.6.3"
  }
 },
 "nbformat": 4,
 "nbformat_minor": 2
}
