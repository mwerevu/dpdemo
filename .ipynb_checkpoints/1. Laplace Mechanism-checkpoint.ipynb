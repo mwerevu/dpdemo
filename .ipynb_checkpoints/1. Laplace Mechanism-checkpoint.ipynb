{
 "cells": [
  {
   "cell_type": "markdown",
   "metadata": {},
   "source": [
    "# The Basic Laplace Mechanism"
   ]
  },
  {
   "cell_type": "markdown",
   "metadata": {
    "collapsed": true
   },
   "source": [
    "## The Laplace Distribution\n",
    "\n",
    "First, let's look at the Laplace Distribution:\n",
    "\n",
    "$f\\left(x\\middle|\\mu,b\\right)=\\frac{1}{2b}e^{\\left(-\\frac{\\left|x-\\mu\\right|}{b}\\right)}$\n",
    "\n",
    "For implementing simple $\\epsilon$-differential privacy, we'll set the location to zero: $\\mu=0$. That gives us:\n",
    "\n",
    "$f\\left(x\\middle|\\mu,b\\right)=\\frac{1}{2b}e^{\\left(-\\frac{\\left|x\\right|}{b}\\right)}$\n",
    "\n",
    "Next we'll have a quick look at what the Laplace distribution looks like using some Python..."
   ]
  },
  {
   "cell_type": "code",
   "execution_count": 1,
   "metadata": {
    "collapsed": true
   },
   "outputs": [],
   "source": [
    "# Some initial Python setup requirements for later code.\n",
    "\n",
    "# Required to get the plots inline for Census implementation.\n",
    "%matplotlib inline\n",
    "\n",
    "# Load the libraries we need.\n",
    "import matplotlib.pyplot as plt\n",
    "import numpy as np\n",
    "\n",
    "# Set the threshold for numpy output values that get printed to the screen.\n",
    "np.set_printoptions(threshold=10)\n"
   ]
  },
  {
   "cell_type": "code",
   "execution_count": 2,
   "metadata": {},
   "outputs": [
    {
     "data": {
      "text/plain": [
       "[<matplotlib.lines.Line2D at 0x2450f128a90>]"
      ]
     },
     "execution_count": 2,
     "metadata": {},
     "output_type": "execute_result"
    },
    {
     "data": {
      "image/png": "[encoded data removed]",
      "text/plain": [
       "<matplotlib.figure.Figure at 0x2450ee9f6a0>"
      ]
     },
     "metadata": {},
     "output_type": "display_data"
    }
   ],
   "source": [
    "# Set the scale:\n",
    "b = 1.\n",
    "\n",
    "# Adjust the plot to the scale we chose:\n",
    "plotrange=10.*b\n",
    "plotscale=b/100.\n",
    "\n",
    "# Now plot the Laplace distribution:\n",
    "x = np.arange(-plotrange, plotrange, plotscale)\n",
    "pdf = np.exp(-abs(x)/b)/(2.*b)\n",
    "plt.plot(x, pdf)"
   ]
  },
  {
   "cell_type": "markdown",
   "metadata": {},
   "source": [
    "## Sample from the Laplace Distribution\n",
    "Conveniently, Python (the NumPy package, really) has a way to sample from this distribution. \n",
    "\n",
    "*Note: If you are using tools that don't have this facility (Excel!), you can construct a sample from the Laplace distribution by taking the difference between two independent samples of the exponential distribution.)*\n",
    "\n",
    "Below we'll draw some samples and list and plot them:"
   ]
  },
  {
   "cell_type": "code",
   "execution_count": 3,
   "metadata": {},
   "outputs": [
    {
     "name": "stdout",
     "output_type": "stream",
     "text": [
      "[ 0.25029191 -0.08511179 -0.39802793 ..., -2.53619969  1.93589419\n",
      " -0.68472818]\n"
     ]
    },
    {
     "data": {
      "image/png": "[encoded data removed]",
      "text/plain": [
       "<matplotlib.figure.Figure at 0x2450f1532e8>"
      ]
     },
     "metadata": {},
     "output_type": "display_data"
    }
   ],
   "source": [
    "# Set the scale:\n",
    "b = 1.\n",
    "\n",
    "# Generate the samples \n",
    "numsamples = 100000\n",
    "samples = np.random.laplace(0,b,numsamples)\n",
    "\n",
    "# First, print the samples:\n",
    "print(samples)\n",
    "\n",
    "# Then display an histogram of the noise:\n",
    "numbins=20\n",
    "histnoise=plt.hist(samples,numbins)"
   ]
  }
 ],
 "metadata": {
  "kernelspec": {
   "display_name": "Python 3",
   "language": "python",
   "name": "python3"
  },
  "language_info": {
   "codemirror_mode": {
    "name": "ipython",
    "version": 3
   },
   "file_extension": ".py",
   "mimetype": "text/x-python",
   "name": "python",
   "nbconvert_exporter": "python",
   "pygments_lexer": "ipython3",
   "version": "3.6.3"
  }
 },
 "nbformat": 4,
 "nbformat_minor": 2
}
