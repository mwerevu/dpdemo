{
 "cells": [
  {
   "cell_type": "markdown",
   "metadata": {},
   "source": [
    "# Testing Simple Laplace Algorithm for $\\varepsilon$-DP"
   ]
  },
  {
   "cell_type": "code",
   "execution_count": 29,
   "metadata": {},
   "outputs": [],
   "source": [
    "# Load the libraries we need.\n",
    "import matplotlib.pyplot as plt\n",
    "import math\n",
    "import numpy as np\n",
    "from IPython.display import HTML, display\n",
    "import tabulate\n",
    "import pandas as pd\n",
    "from IPython.display import display, Math # Support LaTeX-formatted outputs."
   ]
  },
  {
   "cell_type": "markdown",
   "metadata": {},
   "source": [
    "# Basic Setup for Laplace Distribution\n",
    "\n",
    "$PDF_{Laplace}=\\frac{1}{2b}e^{\\frac{-\\left|x-\\mu\\right|}{b}}$\n",
    "\n",
    "$\\mu=$ Location\n",
    "\n",
    "$b=$ Scale $=\\frac{Sensitivity}{\\varepsilon}$\n",
    "\n",
    "Typically in DP usage we set the location, $\\mu$, to 0. This leaves us with:\n",
    "\n",
    "$PDF_{Laplace}=\\frac{1}{2b}e^{\\frac{-\\left|x\\right|}{b}}$"
   ]
  },
  {
   "cell_type": "code",
   "execution_count": 52,
   "metadata": {
    "scrolled": true
   },
   "outputs": [
    {
     "name": "stdout",
     "output_type": "stream",
     "text": [
      "Epsilon: 2.000000\n",
      "Sensitivity: 1.000000\n",
      "Scale: 0.500000\n"
     ]
    },
    {
     "data": {
      "text/latex": [
       "$$PDF_{Laplace}=\\frac{1}{2b}e^{\\frac{-\\left|x-\\mu\\right|}{b}}$$"
      ],
      "text/plain": [
       "<IPython.core.display.Math object>"
      ]
     },
     "metadata": {},
     "output_type": "display_data"
    },
    {
     "data": {
      "text/latex": [
       "$$a_{test} + 0.5$$"
      ],
      "text/plain": [
       "<IPython.core.display.Math object>"
      ]
     },
     "metadata": {},
     "output_type": "display_data"
    },
    {
     "data": {
      "text/latex": [
       "$$Dims: 12.34x23.45m \\\\ Area: 100.01m^2 \\\\ Volume: 99.98m^3$$"
      ],
      "text/plain": [
       "<IPython.core.display.Math object>"
      ]
     },
     "metadata": {},
     "output_type": "display_data"
    }
   ],
   "source": [
    "# Set the parameter for the privacy mechanism.\n",
    "epsilon=2.\n",
    "sensitivity=1.\n",
    "scale=sensitivity/epsilon\n",
    "\n",
    "print(\"Epsilon: %f\" % epsilon)\n",
    "print(\"Sensitivity: %f\" % sensitivity)\n",
    "print(\"Scale: %f\" % scale)\n",
    "\n",
    "# TODO: Try to do a better job of displaying the equation once the parameters have been entered.\n",
    "\n",
    "display(Math(r'PDF_{Laplace}=\\frac{1}{2b}e^{\\frac{-\\left|x-\\mu\\right|}{b}}'))\n",
    "\n",
    "# Examples that may show the way. Core problem is mixing variable insertion and LaTeX layout.\n",
    "display(Math(r'a_{test} +' + ' {}'.format(scale)))\n",
    "a=12.34\n",
    "b=23.45\n",
    "P=100.01\n",
    "V=99.98\n",
    "\n",
    "display(Math(r'Dims: {}x{}m \\\\ Area: {}m^2 \\\\ Volume: {}m^3'.format(a, round(b,2), P, V)))"
   ]
  },
  {
   "cell_type": "markdown",
   "metadata": {},
   "source": [
    "# Define parameters for sampling"
   ]
  },
  {
   "cell_type": "code",
   "execution_count": 60,
   "metadata": {},
   "outputs": [],
   "source": [
    "\n",
    "# Parameters for the data\n",
    "minval=1\n",
    "maxval=10\n",
    "numsamples=10000\n"
   ]
  },
  {
   "cell_type": "markdown",
   "metadata": {},
   "source": [
    "# Create Laplace Noise"
   ]
  },
  {
   "cell_type": "code",
   "execution_count": 61,
   "metadata": {},
   "outputs": [
    {
     "name": "stdout",
     "output_type": "stream",
     "text": [
      "Using 50 bins\n"
     ]
    },
    {
     "data": {
      "image/png": "[encoded data removed]",
      "text/plain": [
       "<matplotlib.figure.Figure at 0x110dca610>"
      ]
     },
     "metadata": {},
     "output_type": "display_data"
    }
   ],
   "source": [
    "# Generate the noise \n",
    "noise = np.random.laplace(0,sensitivity/epsilon,numsamples)\n",
    "\n",
    "# Display an histogram of the noise\n",
    "histbincnt=max(20,min(numbins/100,50))\n",
    "print(\"Using %d bins\" % histbincnt)\n",
    "histnoise=plt.hist(noise,histbincnt)\n"
   ]
  },
  {
   "cell_type": "markdown",
   "metadata": {},
   "source": [
    "# Create some random data"
   ]
  },
  {
   "cell_type": "code",
   "execution_count": 62,
   "metadata": {},
   "outputs": [
    {
     "name": "stdout",
     "output_type": "stream",
     "text": [
      "Using 50 bins\n"
     ]
    },
    {
     "data": {
      "image/png": "[encoded data removed]",
      "text/plain": [
       "<matplotlib.figure.Figure at 0x1122d3450>"
      ]
     },
     "metadata": {},
     "output_type": "display_data"
    }
   ],
   "source": [
    "# Create a random dataset.\n",
    "x = np.ceil(np.random.uniform(minval,maxval,numsamples))\n",
    "\n",
    "# Display an histogram of the data\n",
    "histbincnt=max(20,min(numbins/100,50))\n",
    "print(\"Using %d bins\" % histbincnt)\n",
    "histdata=plt.hist(x,histbincnt)\n"
   ]
  },
  {
   "cell_type": "markdown",
   "metadata": {},
   "source": [
    "# Create Noisy Data"
   ]
  },
  {
   "cell_type": "code",
   "execution_count": 63,
   "metadata": {},
   "outputs": [
    {
     "name": "stdout",
     "output_type": "stream",
     "text": [
      "Using 50 bins\n"
     ]
    },
    {
     "data": {
      "image/png": "[encoded data removed]",
      "text/plain": [
       "<matplotlib.figure.Figure at 0x1122bf350>"
      ]
     },
     "metadata": {},
     "output_type": "display_data"
    }
   ],
   "source": [
    "y = x + noise\n",
    "\n",
    "# Display an histogram of the noisy data\n",
    "histbincnt=max(20,min(numbins/100,50))\n",
    "print(\"Using %d bins\" % histbincnt)\n",
    "histdata=plt.hist(y,histbincnt)"
   ]
  },
  {
   "cell_type": "markdown",
   "metadata": {},
   "source": [
    "# Calculate L1 Error"
   ]
  },
  {
   "cell_type": "code",
   "execution_count": 59,
   "metadata": {},
   "outputs": [
    {
     "name": "stdout",
     "output_type": "stream",
     "text": [
      "Absolute L1 Error: 5002.3693\n",
      "also\n",
      "Relative Error: 0.09957560%\n"
     ]
    }
   ],
   "source": [
    "L1 = np.linalg.norm(y-x,1)\n",
    "print(\"Absolute L1 Error: \" + \"{:.8}\".format(L1))\n",
    "\n",
    "print(\"also\")\n",
    "L1rel = L1 / np.linalg.norm(x,1)\n",
    "print(\"Relative Error: \" + \"{:.8%}\".format(L1rel))"
   ]
  },
  {
   "cell_type": "markdown",
   "metadata": {},
   "source": [
    "# Old Code"
   ]
  },
  {
   "cell_type": "code",
   "execution_count": null,
   "metadata": {},
   "outputs": [],
   "source": [
    "bins=[0,10,20,30,40,50,60,70,80,90,101]\n",
    "x = np.ceil(np.random.uniform(0,100,100))\n",
    "x1 = np.append(x,52)\n",
    "print(x1)\n",
    "x = np.random.laplace(0,1,100)\n",
    "y = pd.DataFrame(x, columns=[\"Age\"])\n",
    "y1 = pd.DataFrame(x1, columns=[\"Age\"])\n",
    "#display(HTML(tabulate.tabulate(y, tablefmt='html')))\n",
    "#print(y)\n",
    "#plt.hist(x,bins=bins)\n",
    "plt.hist(x)"
   ]
  },
  {
   "cell_type": "code",
   "execution_count": 68,
   "metadata": {},
   "outputs": [
    {
     "data": {
      "text/plain": [
       "(array([ 7., 10.,  4.,  7.,  3.,  5.,  5.,  4.,  5.,  7.,  5.,  2.,  6.,\n",
       "         4.,  1.,  5.,  5.,  4.,  4.,  8.]),\n",
       " array([  1.  ,   5.95,  10.9 ,  15.85,  20.8 ,  25.75,  30.7 ,  35.65,\n",
       "         40.6 ,  45.55,  50.5 ,  55.45,  60.4 ,  65.35,  70.3 ,  75.25,\n",
       "         80.2 ,  85.15,  90.1 ,  95.05, 100.  ]),\n",
       " <a list of 20 Patch objects>)"
      ]
     },
     "execution_count": 68,
     "metadata": {},
     "output_type": "execute_result"
    },
    {
     "data": {
      "image/png": "[encoded data removed]",
      "text/plain": [
       "<matplotlib.figure.Figure at 0x11a67df90>"
      ]
     },
     "metadata": {},
     "output_type": "display_data"
    }
   ],
   "source": [
    "plt.hist(x1,20)\n",
    "#print(x)"
   ]
  }
 ],
 "metadata": {
  "kernelspec": {
   "display_name": "Python 2",
   "language": "python",
   "name": "python2"
  },
  "language_info": {
   "codemirror_mode": {
    "name": "ipython",
    "version": 2
   },
   "file_extension": ".py",
   "mimetype": "text/x-python",
   "name": "python",
   "nbconvert_exporter": "python",
   "pygments_lexer": "ipython2",
   "version": "2.7.3"
  }
 },
 "nbformat": 4,
 "nbformat_minor": 2
}
