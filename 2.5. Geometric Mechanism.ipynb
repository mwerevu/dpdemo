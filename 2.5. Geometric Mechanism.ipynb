{
 "cells": [
  {
   "cell_type": "markdown",
   "metadata": {},
   "source": [
    "# Implementing Geometric Mechanism for $\\epsilon$-DP"
   ]
  },
  {
   "attachments": {},
   "cell_type": "markdown",
   "metadata": {},
   "source": [
    "## The Geometric Mechanism\n",
    "The geometric mechanism is an alternative to the Laplace Mechanism that produces integer noise automatically. Noise that satisfies $\\epsilon$-DP can be drawn by taking the different between two independent draws from the Geometric Distribution:\n",
    "\n",
    "$$f\\left(k\\middle|p\\right)=\\left(1-p\\right)^{k-1}p$$ \n",
    "\n",
    "where the value of $p$ is set as:\n",
    "\n",
    "$$p=1-e^{\\left(-\\frac{\\epsilon}{S}\\right)}$$\n",
    "\n",
    "with $S$ as the sensitivity and $k$ is able to take values $1,2,3,...$\n"
   ]
  },
  {
   "cell_type": "markdown",
   "metadata": {},
   "source": [
    "## Again, Generate and Summarize Data..."
   ]
  },
  {
   "cell_type": "code",
   "execution_count": 1,
   "metadata": {},
   "outputs": [
    {
     "name": "stdout",
     "output_type": "stream",
     "text": [
      "   Sex  Age Married  Earnings     Occupation\n",
      "0    F   48       M     27000   Statistician\n",
      "1    F   45       M    383672   Statistician\n",
      "2    M   47       N     23428      Economist\n",
      "3    M   61       M     22504  IT Specialist\n",
      "4    F   28       M     66849      Economist\n",
      "..  ..  ...     ...       ...            ...\n",
      "95   F   33       M    231925      Economist\n",
      "96   M   46       M    346033   Statistician\n",
      "97   F   40       M     32616     Geographer\n",
      "98   M   39       N     41567     Geographer\n",
      "99   M   20       N    171503     Geographer\n",
      "\n",
      "[100 rows x 5 columns]\n",
      "Sex                M   F\n",
      "Occupation              \n",
      "Statistician      18  19\n",
      "Economist         13  16\n",
      "Geographer        10  10\n",
      "IT Specialist      8   5\n",
      "Unicorn Wrangler   0   1\n"
     ]
    }
   ],
   "source": [
    "# Some initial Python setup requirements for later code.\n",
    "\n",
    "# Required to get the plots inline for Census implementation.\n",
    "%matplotlib inline\n",
    "\n",
    "# Load the libraries we need.\n",
    "import matplotlib.pyplot as plt\n",
    "import numpy as np\n",
    "import pandas as pd\n",
    "from scipy.stats import truncnorm\n",
    "\n",
    "# Set the threshold for numpy output values that get printed to the screen.\n",
    "np.set_printoptions(threshold=10)\n",
    "pd.options.display.max_rows = 10\n",
    "\n",
    "# Specify how many dummy records we want.\n",
    "numrecs=100\n",
    "\n",
    "# Valid Values\n",
    "sexvalid=[\"M\", \"F\"]\n",
    "marrvalid=[\"M\", \"W\", \"S\", \"D\", \"N\"]\n",
    "occvalid=[\"Statistician\", \"Economist\", \"Geographer\", \"IT Specialist\", \"Unicorn Wrangler\"]\n",
    "\n",
    "# Generate arrays of random values.\n",
    "sexarray = np.random.choice(a=sexvalid,size=numrecs,p=[0.50, 0.50])\n",
    "agearray = np.random.normal(loc=45, scale=10, size=numrecs).round().astype(np.int)\n",
    "marrarray = np.random.choice(a=marrvalid,size=numrecs,p=[0.478, 0.057,0.109,0.019,0.337])\n",
    "earnarray=np.power(10,truncnorm.rvs(-3, 4, loc=5, scale=0.5, size=numrecs)).round().astype(np.int)\n",
    "occarray=np.random.choice(a=occvalid,size=numrecs,p=[0.3,0.3,0.2,0.19,0.01])\n",
    "\n",
    "\n",
    "#myrecs=pd.DataFrame(np.array([sexarray,agearray]))\n",
    "myrecs = pd.DataFrame({'Sex': sexarray, \n",
    "                       'Age': agearray,\n",
    "                       'Married': marrarray,\n",
    "                       'Earnings': earnarray,\n",
    "                       'Occupation': occarray\n",
    "                    }, columns=['Sex', 'Age', 'Married', 'Earnings', 'Occupation'])\n",
    "print(myrecs)\n",
    "\n",
    "\n",
    "# Note that we reindex using the full set of valid values. Unless we have structural zeros, we must also protect the real zeros.\n",
    "truetab=pd.crosstab(index=myrecs['Occupation'], columns=myrecs['Sex'])\n",
    "truetab=truetab.reindex(index=occvalid, columns=sexvalid, fill_value=0)\n",
    "print(truetab)"
   ]
  },
  {
   "cell_type": "markdown",
   "metadata": {},
   "source": [
    "## Generate Geometric Noise"
   ]
  },
  {
   "cell_type": "code",
   "execution_count": 2,
   "metadata": {},
   "outputs": [
    {
     "name": "stdout",
     "output_type": "stream",
     "text": [
      "Epsilon = 1.00\n",
      "Sensitivity = 1.00\n",
      "Probability = 0.6321\n",
      "\n",
      "[[-1  0]\n",
      " [ 0  0]\n",
      " [ 0  0]\n",
      " [ 0 -1]\n",
      " [ 1  0]]\n"
     ]
    }
   ],
   "source": [
    "# First let's define the scale of the Laplace distribution in terms of sensitivity and epsilon.\n",
    "sensitivity=1.\n",
    "epsilon=1.\n",
    "probability=1-np.exp(-epsilon/sensitivity)\n",
    "\n",
    "print(\"Epsilon = {:4.2f}\".format(epsilon))\n",
    "print(\"Sensitivity = {:4.2f}\".format(sensitivity) )\n",
    "print(\"Probability = {:4.4f}\".format(probability))\n",
    "print()\n",
    "\n",
    "\n",
    "noise = np.random.geometric(probability,truetab.shape)-np.random.geometric(probability,truetab.shape)\n",
    "print(noise)\n"
   ]
  },
  {
   "cell_type": "markdown",
   "metadata": {},
   "source": [
    "## Create the Noisy Table and Measure the Error...\n",
    "No post-processing rounding needed."
   ]
  },
  {
   "cell_type": "code",
   "execution_count": 4,
   "metadata": {},
   "outputs": [
    {
     "name": "stdout",
     "output_type": "stream",
     "text": [
      "Original Noisy Table:\n",
      "Sex                M   F\n",
      "Occupation              \n",
      "Statistician      17  19\n",
      "Economist         13  16\n",
      "Geographer        10  10\n",
      "IT Specialist      8   4\n",
      "Unicorn Wrangler   1   1\n",
      "\n",
      "Noisy table to be published:\n",
      "Sex                M   F\n",
      "Occupation              \n",
      "Statistician      17  19\n",
      "Economist         13  16\n",
      "Geographer        10  10\n",
      "IT Specialist      8   4\n",
      "Unicorn Wrangler   1   1\n",
      "\n",
      "True table for comparison:\n",
      "Sex                M   F\n",
      "Occupation              \n",
      "Statistician      18  19\n",
      "Economist         13  16\n",
      "Geographer        10  10\n",
      "IT Specialist      8   5\n",
      "Unicorn Wrangler   0   1\n",
      "\n",
      "Cell-by-cell absolute error:\n",
      "Sex               M  F\n",
      "Occupation            \n",
      "Statistician      1  0\n",
      "Economist         0  0\n",
      "Geographer        0  0\n",
      "IT Specialist     0  1\n",
      "Unicorn Wrangler  1  0\n",
      "\n",
      "Cell-by-cell relative error:\n",
      "Sex                      M    F\n",
      "Occupation                     \n",
      "Statistician      0.055556  0.0\n",
      "Economist         0.000000  0.0\n",
      "Geographer        0.000000  0.0\n",
      "IT Specialist     0.000000  0.2\n",
      "Unicorn Wrangler       inf  0.0\n",
      "\n",
      "Total L1 Error: 3\n",
      "Relative L1 Error: 3.00%\n"
     ]
    }
   ],
   "source": [
    "# Make the noisy table.\n",
    "noisytab=truetab+noise\n",
    "print(\"Original Noisy Table:\")\n",
    "print(noisytab)\n",
    "print()\n",
    "\n",
    "# Post-process the noisy table to set negative values to zero.\n",
    "noisytabpost=noisytab\n",
    "noisytabpost[noisytabpost < 0]=0\n",
    "print(\"Noisy table to be published:\")\n",
    "print(noisytabpost)\n",
    "print()\n",
    "\n",
    "print(\"True table for comparison:\")\n",
    "print(truetab)\n",
    "print()\n",
    "\n",
    "# First cell-by-cell errors.\n",
    "errortab=np.abs(noisytabpost-truetab)\n",
    "print(\"Cell-by-cell absolute error:\")\n",
    "print(errortab)\n",
    "print()\n",
    "\n",
    "# Then percentage errors.\n",
    "pcterrortab=errortab/truetab\n",
    "print(\"Cell-by-cell relative error:\")\n",
    "print(pcterrortab)\n",
    "print()\n",
    "\n",
    "# Now the total error and the relative error.\n",
    "errorsum=errortab.sum().sum()\n",
    "print(\"Total L1 Error: {0:1d}\".format(errorsum))\n",
    "truesum=truetab.sum().sum()\n",
    "errorrel=100*errorsum/truesum\n",
    "print(\"Relative L1 Error: {:4.2f}%\".format(errorrel))\n"
   ]
  }
 ],
 "metadata": {
  "kernelspec": {
   "display_name": "Python 3",
   "language": "python",
   "name": "python3"
  },
  "language_info": {
   "codemirror_mode": {
    "name": "ipython",
    "version": 3
   },
   "file_extension": ".py",
   "mimetype": "text/x-python",
   "name": "python",
   "nbconvert_exporter": "python",
   "pygments_lexer": "ipython3",
   "version": "3.6.3"
  }
 },
 "nbformat": 4,
 "nbformat_minor": 2
}
