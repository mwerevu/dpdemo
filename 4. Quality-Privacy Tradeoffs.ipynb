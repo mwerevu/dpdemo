{
 "cells": [
  {
   "cell_type": "markdown",
   "metadata": {},
   "source": [
    "# Exploring the Tradoffs Between Quality and Privacy\n",
    "In this section we will take a brief look at the tradeoff between Quality and Privacy intrinsic to $\\epsilon$-DP (and all formal privacy).\n",
    "\n",
    "First, a note on terminology. We will generally consider both quality and privacy to be \"goods\" in the economic sense, while privacy loss, which is what $\\epsilon$ represents, is a \"bad.\" Privacy and privacy loss are opposites."
   ]
  },
  {
   "cell_type": "markdown",
   "metadata": {},
   "source": [
    "## Initial Error Calculation\n",
    "By using $\\epsilon$-DP, the Laplace mechanism, and $L_{1}$ Error as our quality measure, this simulation becaomes very easy because we do not need actual data:\n",
    "\n",
    "Given:  \n",
    "$S=$ Senstivity  \n",
    "$\\epsilon=$ Privacy-Loss Parameter  \n",
    "$\\ell\\tilde{}Lap\\left(\\frac{S}{\\epsilon}\\right)$ Draw from Laplace distribution with location of 0 and scale of sensitivity over the privacy loss parameter.  \n",
    "$n=$ True value of a query  \n",
    "$\\tilde{n}=$ Noisy value of query  \n",
    "\n",
    "Then the $L_{1}$ measure is constructed as:  \n",
    "\\begin{align}\n",
    "L_{1} & =\\left|n-\\tilde{n}\\right|\\\\\n",
    "L_{1} & =\\left|n-\\left(n+\\ell\\right)\\right|\\\\\n",
    "L_{1} & =\\left|\\ell\\right|\n",
    "\\end{align}\n",
    "which does not require actual data, $n$.\n",
    "\n",
    "(Of course, using a different privacy mechanism or using a different quality measure may result in a need for actual data.)\n",
    "\n"
   ]
  },
  {
   "cell_type": "code",
   "execution_count": 20,
   "metadata": {
    "collapsed": true
   },
   "outputs": [],
   "source": [
    "# Some initial Python setup requirements for later code.\n",
    "\n",
    "# Required to get the plots inline for Census implementation.\n",
    "%matplotlib inline\n",
    "\n",
    "# Load the libraries we need.\n",
    "import matplotlib.pyplot as plt\n",
    "import numpy as np\n",
    "import pandas as pd\n",
    "\n",
    "# Set the threshold for numpy output values that get printed to the screen.\n",
    "np.set_printoptions(threshold=10)\n",
    "pd.options.display.max_rows = 10"
   ]
  },
  {
   "cell_type": "code",
   "execution_count": 10,
   "metadata": {},
   "outputs": [
    {
     "name": "stdout",
     "output_type": "stream",
     "text": [
      "Epsilon = 4.00\n",
      "Sensitivity = 1.00\n",
      "Scale = 0.25\n",
      "Number of draws: = 1000\n",
      "\n"
     ]
    }
   ],
   "source": [
    "# First let's define the scale of the Laplace distribution in terms of sensitivity and epsilon.\n",
    "epsilon=4.\n",
    "sensitivity=1.\n",
    "scale=sensitivity/epsilon\n",
    "numrecs=1000\n",
    "\n",
    "print(\"Epsilon = {:4.2f}\".format(epsilon))\n",
    "print(\"Sensitivity = {:4.2f}\".format(sensitivity) )\n",
    "print(\"Scale = {:4.2f}\".format(scale))\n",
    "print(\"Number of draws: = {0:1d}\".format(numrecs))\n",
    "print()"
   ]
  },
  {
   "cell_type": "code",
   "execution_count": 11,
   "metadata": {},
   "outputs": [
    {
     "name": "stdout",
     "output_type": "stream",
     "text": [
      "[-0.24731248  0.07080994 -0.187923   ..., -0.05315426  0.15172355\n",
      " -0.03286145]\n",
      "Mean L1 error:\n",
      "0.262774465784\n",
      "\n"
     ]
    }
   ],
   "source": [
    "# Now we'll generate the noise.\n",
    "noise = np.random.laplace(0,scale,numrecs)\n",
    "print(noise)\n",
    "\n",
    "# And calculate the mean error per \"cell\".\n",
    "meanerror=np.mean(np.abs(noise))\n",
    "print(\"Mean L1 error:\")\n",
    "print(meanerror)\n",
    "print()"
   ]
  },
  {
   "cell_type": "markdown",
   "metadata": {},
   "source": [
    "## Simulations Over Many Values of $\\epsilon$\n",
    "The previous calculation is fine, but since we can create error values and quality measures quickly, let's get a sense for how the error changes with epsilon.\n"
   ]
  },
  {
   "cell_type": "code",
   "execution_count": 168,
   "metadata": {},
   "outputs": [
    {
     "name": "stdout",
     "output_type": "stream",
     "text": [
      "Set of epsilon values for simulation:\n",
      "[0.10000000000000001, 0.12589254117941673, 0.15848931924611134, 0.19952623149688792, 0.25118864315095796, 0.31622776601683783, 0.39810717055349715, 0.50118723362727213, 0.63095734448019303, 0.79432823472428116, 0.99999999999999944, 1.2589254117941662, 1.5848931924611125, 1.9952623149688788, 2.5118864315095784, 3.162277660168376, 3.9810717055349691, 5.0118723362727202, 6.3095734448019263, 7.9432823472428051, 9.9999999999999893]\n",
      "\n",
      "Complete data structure:\n",
      "    epsilon  scale  sensitivity      noise    L1error\n",
      "0       0.1   10.0          1.0   6.177444   6.177444\n",
      "0       0.1   10.0          1.0 -16.737881  16.737881\n",
      "0       0.1   10.0          1.0  -3.933522   3.933522\n",
      "0       0.1   10.0          1.0  -4.463035   4.463035\n",
      "0       0.1   10.0          1.0  -2.522659   2.522659\n",
      "..      ...    ...          ...        ...        ...\n",
      "20     10.0    0.1          1.0  -0.052528   0.052528\n",
      "20     10.0    0.1          1.0   0.091566   0.091566\n",
      "20     10.0    0.1          1.0   0.108831   0.108831\n",
      "20     10.0    0.1          1.0  -0.035852   0.035852\n",
      "20     10.0    0.1          1.0  -0.246787   0.246787\n",
      "\n",
      "[21000 rows x 5 columns]\n",
      "\n"
     ]
    }
   ],
   "source": [
    "#First we'll define a set of epsilon values we want to explore.\n",
    "epsmin=0.1\n",
    "epsmax=10.\n",
    "epscnt=20\n",
    "epsset=[10**x for x in np.arange(np.log10(epsmin),np.log10(epsmax)+(np.log10(epsmax)-np.log10(epsmin))/epscnt,(np.log10(epsmax)-np.log10(epsmin))/epscnt)]\n",
    "print(\"Set of epsilon values for simulation:\")\n",
    "print(epsset)\n",
    "print()\n",
    "\n",
    "# Define our other independent parameters\n",
    "sensitivity=1.\n",
    "numrecs=1000 # Per epsilon\n",
    "\n",
    "# Create the data structure\n",
    "epsilon = pd.Series(epsset).repeat(numrecs)\n",
    "df=pd.DataFrame({'epsilon' : epsilon,'sensitivity' : sensitivity, 'scale' : sensitivity/epsilon})\n",
    "\n",
    "# Generate the noise\n",
    "df['noise'] = np.random.laplace(loc=0,scale=df['scale'])\n",
    "df['L1error'] = np.abs(df['noise'])\n",
    "print(\"Complete data structure:\")\n",
    "print(df)\n",
    "print()"
   ]
  },
  {
   "cell_type": "markdown",
   "metadata": {},
   "source": [
    "## Visualizing the Results\n",
    "Now we want to average over the the $L_{1}$ error by each value of $\\epsilon$ we tested and see what the results are."
   ]
  },
  {
   "cell_type": "code",
   "execution_count": 207,
   "metadata": {},
   "outputs": [
    {
     "name": "stdout",
     "output_type": "stream",
     "text": [
      "      epsilon   L1error     L1std\n",
      "0    0.100000  9.936688  9.453054\n",
      "1    0.125893  7.940896  7.966433\n",
      "2    0.158489  6.222435  6.214303\n",
      "3    0.199526  5.109112  5.571588\n",
      "4    0.251189  3.637570  3.747477\n",
      "..        ...       ...       ...\n",
      "16   3.981072  0.229622  0.234198\n",
      "17   5.011872  0.201234  0.191165\n",
      "18   6.309573  0.156316  0.156344\n",
      "19   7.943282  0.129785  0.129809\n",
      "20  10.000000  0.101519  0.097474\n",
      "\n",
      "[21 rows x 3 columns]\n"
     ]
    },
    {
     "data": {
      "image/png": "[encoded data removed]",
      "text/plain": [
       "<matplotlib.figure.Figure at 0x1850981ed68>"
      ]
     },
     "metadata": {},
     "output_type": "display_data"
    }
   ],
   "source": [
    "# First, calculate the statistics for each epsilon.\n",
    "## The following is a bit of a workaround to deal with a bug in pandas: \n",
    "## https://github.com/pandas-dev/pandas/issues/10355\n",
    "grouped=df.groupby('epsilon',as_index=False)\n",
    "stats=grouped['L1error'].aggregate(np.mean)\n",
    "stats['L1std']=grouped['L1error'].aggregate(np.std)['L1error']\n",
    "print(stats)\n",
    "\n",
    "# Then plot the results.\n",
    "# Note that the y-axis has been inverted. This is the preferred representation at the Census Bureau.\n",
    "fig,ax = plt.subplots()\n",
    "ax.plot(stats['epsilon'],stats['L1error'])\n",
    "plt.gca().invert_yaxis()\n",
    "ax.set_xscale('log')\n",
    "ax.set_xlabel('Privacy Loss ($\\epsilon$)')\n",
    "ax.set_ylabel('L1 Error (counts)')\n",
    "plt.title('Simulation of $\\epsilon$-DP with Laplace mechanism\\n Sensitivity={}; {} runs per $\\epsilon$'.format(sensitivity,numrecs))\n",
    "\n",
    "# Uncomment the following two lines to see to +/- 1 StDev lines.\n",
    "ax.plot(stats['epsilon'],stats['L1error']+stats['L1std'],'g--',alpha=0.3)\n",
    "ax.plot(stats['epsilon'],stats['L1error']-stats['L1std'],'g--',alpha=0.3)\n",
    "\n",
    "# Uncomment the following line to see the scatter plot of the indidual errors.\n",
    "#ax.plot(df['epsilon'],df['L1error'],'r.',alpha=0.02,ms=1)\n",
    "\n",
    "plt.show()"
   ]
  }
 ],
 "metadata": {
  "kernelspec": {
   "display_name": "Python 3",
   "language": "python",
   "name": "python3"
  },
  "language_info": {
   "codemirror_mode": {
    "name": "ipython",
    "version": 3
   },
   "file_extension": ".py",
   "mimetype": "text/x-python",
   "name": "python",
   "nbconvert_exporter": "python",
   "pygments_lexer": "ipython3",
   "version": "3.6.3"
  }
 },
 "nbformat": 4,
 "nbformat_minor": 2
}
