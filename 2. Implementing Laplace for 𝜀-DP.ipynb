{
 "cells": [
  {
   "cell_type": "markdown",
   "metadata": {},
   "source": [
    "# Implementing Laplace for $\\epsilon$-DP"
   ]
  },
  {
   "cell_type": "markdown",
   "metadata": {},
   "source": [
    "## Generating a Dummy Population\n",
    "\n",
    "We'll create a dummy dataset with some records of fake people who we can then summarize in a some tables.\n",
    "\n",
    "The characteristics we'll use will be: Sex, Age, Marital Status, Earnings, Occupation"
   ]
  },
  {
   "cell_type": "code",
   "execution_count": 1,
   "metadata": {
    "collapsed": true
   },
   "outputs": [],
   "source": [
    "# Some initial Python setup requirements for later code.\n",
    "\n",
    "# Required to get the plots inline for Census implementation.\n",
    "%matplotlib inline\n",
    "\n",
    "# Load the libraries we need.\n",
    "import matplotlib.pyplot as plt\n",
    "import numpy as np\n",
    "import pandas as pd\n",
    "from scipy.stats import truncnorm\n",
    "\n",
    "# Set the threshold for numpy output values that get printed to the screen.\n",
    "np.set_printoptions(threshold=10)\n",
    "pd.options.display.max_rows = 10"
   ]
  },
  {
   "cell_type": "markdown",
   "metadata": {},
   "source": [
    "## Population Distributions\n",
    "\n",
    "The options we will allow for each of those categories are:\n",
    "* Sex: {Male, Female}, evenly distributed.\n",
    "* Age: A normal distribution of integers centered around 45 and with a StDev of 10.\n",
    "* Marital Status: {Married, Widowed, Separated, Divorced, Never Marries}, based on the [ACS 1-year estimates for 2018](https://data.census.gov/cedsci/table?q=Marital%20Status%20and%20Marital%20History&hidePreview=false&t=Marital%20Status%20and%20Marital%20History&tid=ACSST1Y2018.S1201&vintage=2018)\n",
    "* Earnings: A truncated log-normal distribution of integers.\n",
    "* Occupation: {Statistician, Economist, Geographer, IT Specialist, Unicorn Wrangler}, with an arbitrary distribution."
   ]
  },
  {
   "cell_type": "code",
   "execution_count": 2,
   "metadata": {},
   "outputs": [
    {
     "name": "stdout",
     "output_type": "stream",
     "text": [
      "    Sex  Age Married  Earnings     Occupation\n",
      "0     M   45       M    213411      Economist\n",
      "1     M   47       M    270500  IT Specialist\n",
      "2     M   48       M   3296768     Geographer\n",
      "3     F   53       M    117792   Statistician\n",
      "4     M   44       M     74366   Statistician\n",
      "..   ..  ...     ...       ...            ...\n",
      "995   F   54       M    231524   Statistician\n",
      "996   M   51       N    257908     Geographer\n",
      "997   M   37       N    188947   Statistician\n",
      "998   F   58       N     80671  IT Specialist\n",
      "999   F   39       M    118124     Geographer\n",
      "\n",
      "[1000 rows x 5 columns]\n"
     ]
    }
   ],
   "source": [
    "# Specify how many dummy records we want.\n",
    "numrecs=1000\n",
    "\n",
    "# Valid Values\n",
    "sexvalid=[\"M\", \"F\"]\n",
    "marrvalid=[\"M\", \"W\", \"S\", \"D\", \"N\"]\n",
    "occvalid=[\"Statistician\", \"Economist\", \"Geographer\", \"IT Specialist\", \"Unicorn Wrangler\"]\n",
    "\n",
    "# Generate arrays of random values.\n",
    "sexarray = np.random.choice(a=sexvalid,size=numrecs,p=[0.50, 0.50])\n",
    "agearray = np.random.normal(loc=45, scale=10, size=numrecs).round().astype(np.int)\n",
    "marrarray = np.random.choice(a=marrvalid,size=numrecs,p=[0.478, 0.057,0.109,0.019,0.337])\n",
    "earnarray=np.power(10,truncnorm.rvs(-3, 4, loc=5, scale=0.5, size=numrecs)).round().astype(np.int)\n",
    "occarray=np.random.choice(a=occvalid,size=numrecs,p=[0.3,0.3,0.2,0.19,0.01])\n",
    "\n",
    "\n",
    "# Construct the full data structure and print some records.\n",
    "myrecs = pd.DataFrame({'Sex': sexarray, \n",
    "                       'Age': agearray,\n",
    "                       'Married': marrarray,\n",
    "                       'Earnings': earnarray,\n",
    "                       'Occupation': occarray\n",
    "                    }, columns=['Sex', 'Age', 'Married', 'Earnings', 'Occupation'])\n",
    "print(myrecs)\n"
   ]
  },
  {
   "cell_type": "markdown",
   "metadata": {},
   "source": [
    "## Summarize Data\n",
    "For this example, we want to publish a count of Occupation by Sex. For reference, we'll start by looking at the true version of the table."
   ]
  },
  {
   "cell_type": "code",
   "execution_count": 3,
   "metadata": {},
   "outputs": [
    {
     "name": "stdout",
     "output_type": "stream",
     "text": [
      "Sex                 M    F\n",
      "Occupation                \n",
      "Statistician      137  148\n",
      "Economist         148  164\n",
      "Geographer         99   91\n",
      "IT Specialist     106   97\n",
      "Unicorn Wrangler    3    7\n"
     ]
    }
   ],
   "source": [
    "# Note that we reindex using the full set of valid values. Unless we have structural zeros, we must also protect the real zeros.\n",
    "truetab=pd.crosstab(index=myrecs['Occupation'], columns=myrecs['Sex'])\n",
    "truetab=truetab.reindex(index=occvalid, columns=sexvalid, fill_value=0)\n",
    "print(truetab)\n"
   ]
  },
  {
   "cell_type": "markdown",
   "metadata": {},
   "source": [
    "# Generate Laplace Noise\n",
    "Now we will generate a noise value for each cell in the table too be published."
   ]
  },
  {
   "cell_type": "code",
   "execution_count": 7,
   "metadata": {},
   "outputs": [
    {
     "name": "stdout",
     "output_type": "stream",
     "text": [
      "Epsilon = 0.50\n",
      "Sensitivity = 1.00\n",
      "Scale = 2.00\n",
      "\n",
      "[[ 2.27727214 -1.90631261]\n",
      " [-1.0745796   3.14459949]\n",
      " [ 0.9501998   2.65654731]\n",
      " [ 1.40929971 -2.98973108]\n",
      " [-0.63442318  0.12788332]]\n"
     ]
    }
   ],
   "source": [
    "# First let's define the scale of the Laplace distribution in terms of sensitivity and epsilon.\n",
    "sensitivity=1.\n",
    "epsilon=0.5\n",
    "scale=sensitivity/epsilon\n",
    "\n",
    "print(\"Epsilon = {:4.2f}\".format(epsilon))\n",
    "print(\"Sensitivity = {:4.2f}\".format(sensitivity) )\n",
    "print(\"Scale = {:4.2f}\".format(scale))\n",
    "print()\n",
    "\n",
    "\n",
    "noise = np.random.laplace(0,scale,truetab.shape)\n",
    "print(noise)\n"
   ]
  },
  {
   "cell_type": "markdown",
   "metadata": {},
   "source": [
    "# Create Noisy Table\n",
    "Now we add true data and the noise to get a noisy table. Depending upon our publication strategy we may want to post-process the table (e.g. rounding, excluding negative values)."
   ]
  },
  {
   "cell_type": "code",
   "execution_count": 8,
   "metadata": {},
   "outputs": [
    {
     "name": "stdout",
     "output_type": "stream",
     "text": [
      "Sex                        M           F\n",
      "Occupation                              \n",
      "Statistician      139.277272  146.093687\n",
      "Economist         146.925420  167.144599\n",
      "Geographer         99.950200   93.656547\n",
      "IT Specialist     107.409300   94.010269\n",
      "Unicorn Wrangler    2.365577    7.127883\n",
      "\n",
      "Noisy table to be published:\n",
      "Sex                 M    F\n",
      "Occupation                \n",
      "Statistician      139  146\n",
      "Economist         147  167\n",
      "Geographer        100   94\n",
      "IT Specialist     107   94\n",
      "Unicorn Wrangler    2    7\n",
      "\n",
      "True table for comparison:\n",
      "Sex                 M    F\n",
      "Occupation                \n",
      "Statistician      137  148\n",
      "Economist         148  164\n",
      "Geographer         99   91\n",
      "IT Specialist     106   97\n",
      "Unicorn Wrangler    3    7\n"
     ]
    }
   ],
   "source": [
    "# Print the noisy table.\n",
    "noisytab=truetab+noise\n",
    "print(noisytab)\n",
    "print()\n",
    "\n",
    "# Post-process the noisy table to round and set negative values to zero.\n",
    "noisytabpost=noisytab.round().astype(np.int)\n",
    "noisytabpost[noisytabpost < 0]=0\n",
    "print(\"Noisy table to be published:\")\n",
    "print(noisytabpost)\n",
    "print()\n",
    "\n",
    "print(\"True table for comparison:\")\n",
    "print(truetab)"
   ]
  },
  {
   "cell_type": "markdown",
   "metadata": {},
   "source": [
    "# Measure the Error\n",
    "Now we will calculate the $L_{1}$ error between the true table and the noisy table. First cell by cell and then in total."
   ]
  },
  {
   "cell_type": "code",
   "execution_count": 9,
   "metadata": {},
   "outputs": [
    {
     "name": "stdout",
     "output_type": "stream",
     "text": [
      "Cell-by-cell absolute error:\n",
      "Sex               M  F\n",
      "Occupation            \n",
      "Statistician      2  2\n",
      "Economist         1  3\n",
      "Geographer        1  3\n",
      "IT Specialist     1  3\n",
      "Unicorn Wrangler  1  0\n",
      "\n",
      "Cell-by-cell relative error:\n",
      "Sex                      M         F\n",
      "Occupation                          \n",
      "Statistician      0.014599  0.013514\n",
      "Economist         0.006757  0.018293\n",
      "Geographer        0.010101  0.032967\n",
      "IT Specialist     0.009434  0.030928\n",
      "Unicorn Wrangler  0.333333  0.000000\n",
      "\n",
      "Total L1 Error: 17\n",
      "Relative L1 Error: 1.70%\n"
     ]
    }
   ],
   "source": [
    "# First cell-by-cell errors.\n",
    "errortab=np.abs(noisytabpost-truetab)\n",
    "print(\"Cell-by-cell absolute error:\")\n",
    "print(errortab)\n",
    "print()\n",
    "\n",
    "# Then percentage errors.\n",
    "pcterrortab=errortab/truetab\n",
    "print(\"Cell-by-cell relative error:\")\n",
    "print(pcterrortab)\n",
    "print()\n",
    "\n",
    "# Now the total error and the relative error.\n",
    "errorsum=errortab.sum().sum()\n",
    "print(\"Total L1 Error: {0:1d}\".format(errorsum))\n",
    "truesum=truetab.sum().sum()\n",
    "errorrel=100*errorsum/truesum\n",
    "print(\"Relative L1 Error: {:4.2f}%\".format(errorrel))"
   ]
  }
 ],
 "metadata": {
  "kernelspec": {
   "display_name": "Python 3",
   "language": "python",
   "name": "python3"
  },
  "language_info": {
   "codemirror_mode": {
    "name": "ipython",
    "version": 3
   },
   "file_extension": ".py",
   "mimetype": "text/x-python",
   "name": "python",
   "nbconvert_exporter": "python",
   "pygments_lexer": "ipython3",
   "version": "3.6.3"
  }
 },
 "nbformat": 4,
 "nbformat_minor": 2
}
